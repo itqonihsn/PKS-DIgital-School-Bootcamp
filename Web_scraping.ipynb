{
 "cells": [
  {
   "cell_type": "code",
   "execution_count": 17,
   "metadata": {},
   "outputs": [],
   "source": [
    "from urllib.request import urlopen, Request\n",
    "from bs4 import BeautifulSoup as bs\n",
    "import requests\n",
    "import re, string\n",
    "from nltk.tokenize import word_tokenize, sent_tokenize\n",
    "from nltk.corpus import stopwords\n",
    "from Sastrawi.Stemmer.StemmerFactory import StemmerFactory as SF"
   ]
  },
  {
   "cell_type": "code",
   "execution_count": 59,
   "metadata": {},
   "outputs": [],
   "source": [
    "def web_scraping(alamat_url):\n",
    "    user_agent = 'Mozilla/5.0 (Windows NT 10.0; Win64; x64) AppleWebKit/537.36 (KHTML, like Gecko) Chrome/96.0.4664.45 Safari/537.36'\n",
    "    headers = {'User-Agent': user_agent, 'Accept':'image/avif,image/webp,image/apng,image/svg+xml,image/*,*/*;q=0.8'}\n",
    "\n",
    "    alamat = alamat_url\n",
    "    req = Request(alamat, headers=headers)\n",
    "    html = urlopen(req)\n",
    "\n",
    "    data = bs(html, 'html.parser')\n",
    "    box = data.find(\"div\", {\"class\":\"read__content\"})\n",
    "    hidelabel = box.findAll('strong')\n",
    "    for delete in hidelabel:\n",
    "        delete.decompose()\n",
    "\n",
    "    items =  box.findAll('p')\n",
    "    hasil = [item.get_text() for item in items]\n",
    "\n",
    "    return hasil"
   ]
  },
  {
   "cell_type": "code",
   "execution_count": 56,
   "metadata": {},
   "outputs": [],
   "source": [
    "def text_preprocessing(hasil):\n",
    "    data1 = [item.lower() for item in hasil]\n",
    "    data1 = [' '.join(re.sub(\"(@[A-Za-z0-9]+)|([^0-9A-Za-z \\t])|(\\w+:\\/\\/\\S+)\", \" \", item).split()) for item in data1]\n",
    "    data1 = ' '.join(data1)\n",
    "    data1 = re.sub(r\"\\d+ \",\"\",data1)\n",
    "    data1 = data1.translate(str.maketrans(\"\",\"\",string.punctuation))\n",
    "    data1 = re.sub(r\"\\n\",\"\", data1)\n",
    "    data1 = word_tokenize(data1)\n",
    "    sw_indonesia = stopwords.words('indonesian')\n",
    "    data1 = [word for word in data1 if word not in sw_indonesia]\n",
    "    data1 = ' '.join(data1)\n",
    "    factory = SF()\n",
    "    stemmer = factory.create_stemmer()\n",
    "    data1 = stemmer.stem(data1)\n",
    "    data1 = sent_tokenize(data1)\n",
    "    data1\n",
    "\n",
    "    return data1"
   ]
  },
  {
   "cell_type": "code",
   "execution_count": 61,
   "metadata": {},
   "outputs": [
    {
     "data": {
      "text/plain": [
       "['juru bicara satu tugas satgas tangan covid wiku adisasmito masyarakat tenang hati hati potensi tular varian b omicron bukti teliti varian tular sintas covid masyarakat panik tenang hati hati wiku lansir siar pers laman resmi covidgo id rabu technical advisory group on virus evolution tag ve who kait efek transmisibilitas parah gejala timbul dalam studi lanjut wiku benar dasar bukti teliti sinyalir varian timbul reinfeksi sintas covid dapat informasi inspirasi insight email daftar email masyarakat tunggu hasil studi lanjut wiku sisi perintah sesuai atur sikap transmisi varian salah satu dasar surat edar satgas nomor perintah tunda datang warga negara asing wna negara perintah pantau sesuai daftar negara cantum wiku terap sesuai aktivitas giat masyarakat jelang nataru terap ppkm level laku desember januari sesuai inmendagri nomor surat edar nomor wiku berita direktur cegah kendali sakit tular langsung ditjen p2p menteri sehat kemenkes siti nadia tarmizi varian virus corona b omicron kelabu sistem imunitas manusia varian baru turun efikasi vaksin covid varian tingkat parah orang infeksi covid mudah meyebabkan infeksi varian omicron varian kelabu sistim imunitas menurukan efikasi vaksin nadia terang tulis kompas com nadia lanjut varian gabung mutasi dair varian varian of concern voc virus corona angka mutasi cepat tular banding virus corona varian delta identifikasi kaji nadia lantas masyarakat indonesia hati hati varian omicron turut varian delta kondisi pandemi indonesia buruk juli varian omicron infeksius turut potensi dampak varian milik sifat voc waspada hati hati varian delta infeksius meyebakan lonjak cepat nadia timbang kondisi waspada cegah potensi lonjak tiga bahaya varian tingkat mobilitas masyarakat']"
      ]
     },
     "execution_count": 61,
     "metadata": {},
     "output_type": "execute_result"
    }
   ],
   "source": [
    "berita = web_scraping(\"https://nasional.kompas.com/read/2021/12/01/06270771/varian-omicron-disebut-dapat-menular-ke-penyintas-covid-19-satgas-jangan?page=all\")\n",
    "berita\n",
    "\n",
    "result = text_preprocessing(berita)\n",
    "result"
   ]
  },
  {
   "cell_type": "code",
   "execution_count": null,
   "metadata": {},
   "outputs": [],
   "source": []
  }
 ],
 "metadata": {
  "interpreter": {
   "hash": "c5e48f84046969b800ff52f6d80523bcd1ca3fb1a99f1449e4197bf6c73dc096"
  },
  "kernelspec": {
   "display_name": "Python 3.8.8 64-bit ('base': conda)",
   "language": "python",
   "name": "python3"
  },
  "language_info": {
   "codemirror_mode": {
    "name": "ipython",
    "version": 3
   },
   "file_extension": ".py",
   "mimetype": "text/x-python",
   "name": "python",
   "nbconvert_exporter": "python",
   "pygments_lexer": "ipython3",
   "version": "3.8.8"
  },
  "orig_nbformat": 4
 },
 "nbformat": 4,
 "nbformat_minor": 2
}
