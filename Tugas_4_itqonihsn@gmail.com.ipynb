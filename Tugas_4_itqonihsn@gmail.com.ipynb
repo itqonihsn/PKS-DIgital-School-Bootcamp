{
 "cells": [
  {
   "cell_type": "markdown",
   "metadata": {},
   "source": [
    "# <h1><center><span style=\"color:yellow\">**Bismillahirrahmanirrahim**</span></center></h1>\n",
    "# <h1><center><span style=\"color:white\">Allahummayasir walatu'asir</span></center></h1>\n",
    "# <center><span style='color:white'>**TUGAS 4**</span></center>\n"
   ]
  },
  {
   "cell_type": "markdown",
   "metadata": {},
   "source": [
    "1. Buatlah sebuah fungsi di python yang memerlukan dua argument, nama dan usia. Lalu menampilkan dua argument tersebut saat fungsi dipanggil"
   ]
  },
  {
   "cell_type": "code",
   "execution_count": 3,
   "metadata": {},
   "outputs": [
    {
     "name": "stdout",
     "output_type": "stream",
     "text": [
      "rudy 70\n"
     ]
    }
   ],
   "source": [
    "def nama_usia(nama,usia):\n",
    "    print(nama,usia)\n",
    "nama_usia('Rudy',70)\n",
    "\n",
    "#contoh pemanggilan fungsi\n",
    "#func1(\"Rina\", 20)\n",
    "\n",
    "#output\n",
    "#Rina 20"
   ]
  },
  {
   "cell_type": "markdown",
   "metadata": {},
   "source": [
    "2. Buatlah fungsi yang bisa melakukan print semua parameter/argument yang menjadi inputan. Fungsi tersebut harus bisa menerima berapapun argument yang dimasukkan tanpa error. "
   ]
  },
  {
   "cell_type": "code",
   "execution_count": 4,
   "metadata": {},
   "outputs": [
    {
     "name": "stdout",
     "output_type": "stream",
     "text": [
      "1\n",
      "2\n",
      "3\n",
      "4\n",
      "5\n",
      "6\n"
     ]
    },
    {
     "data": {
      "text/plain": [
       "'\\noutput\\n1\\n2\\n3\\n4\\n5\\n6\\n'"
      ]
     },
     "execution_count": 4,
     "metadata": {},
     "output_type": "execute_result"
    }
   ],
   "source": [
    "def fungsi_1(*items):\n",
    "    for item in items:\n",
    "        print(item)\n",
    "try:    \n",
    "    fungsi_1(1,2,3,4,5,6)\n",
    "except ValueError as e:\n",
    "    print(e)\n",
    "\n",
    "#contoh pemanggilan fungsi\n",
    "#func2(1,2,3)\n",
    "\n",
    "'''\n",
    "output\n",
    "1\n",
    "2\n",
    "3\n",
    "'''\n",
    "\n",
    "#contoh pemanggilan fungsi\n",
    "#func1(1,2,3,4,5,6)\n",
    "\n",
    "'''\n",
    "output\n",
    "1\n",
    "2\n",
    "3\n",
    "4\n",
    "5\n",
    "6\n",
    "'''"
   ]
  },
  {
   "cell_type": "markdown",
   "metadata": {},
   "source": [
    "3. Buatlah sebuah fungsi yang dapat mencari jumlah total dari anggota pada list. Syarat pengerjaan:\n",
    "     - tanpa menggunakan loop/iterasi\n",
    "     - manfaatkan fungsi lambda\n",
    "\n",
    "list_nilai = [23,17,5,8,25,15]"
   ]
  },
  {
   "cell_type": "code",
   "execution_count": 23,
   "metadata": {},
   "outputs": [
    {
     "name": "stdout",
     "output_type": "stream",
     "text": [
      "93\n"
     ]
    }
   ],
   "source": [
    "from functools import reduce\n",
    "list_nilai = [23,17,5,8,25,15]\n",
    "hasil = reduce(lambda a,b:a+b,list_nilai)\n",
    "print(hasil)\n",
    "\n",
    "#contoh pemanggilan fungsi\n",
    "#func3(list_nilai)\n",
    "\n",
    "#output\n",
    "#93"
   ]
  },
  {
   "cell_type": "markdown",
   "metadata": {},
   "source": [
    "4. Buatlah sebuah fungsi yang dapat mencari nilai yang lebih besar/sama dengan 80 dari anggota pada list. Syarat pengerjaan:\n",
    "     - tanpa menggunakan loop/iterasi\n",
    "     - manfaatkan fungsi lambda\n",
    "     - ouput merupakan list\n",
    "\n",
    "nilai_siswa = [67,89,80,67,25,92]"
   ]
  },
  {
   "cell_type": "code",
   "execution_count": 24,
   "metadata": {},
   "outputs": [
    {
     "name": "stdout",
     "output_type": "stream",
     "text": [
      "[89, 80, 92]\n"
     ]
    }
   ],
   "source": [
    "nilai_siswa = [67,89,80,67,25,92]\n",
    "hasil_nilai_siswa = list(filter(lambda x:x >= 80,nilai_siswa))\n",
    "print(hasil_nilai_siswa)\n",
    "\n",
    "#contoh pemanggilan fungsi\n",
    "#func4(nilai_siswa)\n",
    "\n",
    "#output\n",
    "#[89,80,92]"
   ]
  },
  {
   "cell_type": "markdown",
   "metadata": {},
   "source": [
    "5. Buatlah sebuah fungsi untuk mengecek apakah suatu string palindrom atau bukan\n",
    "\n",
    "kata_1 = \"makam\"\n",
    "kata_2 = \"makan\""
   ]
  },
  {
   "cell_type": "code",
   "execution_count": 47,
   "metadata": {},
   "outputs": [
    {
     "name": "stdout",
     "output_type": "stream",
     "text": [
      "makam merupakan palindrom\n",
      "makan bukan merupakan palindrom\n",
      "kasur rusak merupakan palindrom\n"
     ]
    }
   ],
   "source": [
    "def test_palindrom(n):\n",
    "    if str(n) == str(n)[::-1]:\n",
    "        print('{} merupakan palindrom'.format(n))\n",
    "    else:\n",
    "        print('{} bukan merupakan palindrom'.format(n))\n",
    "\n",
    "test_palindrom(kata_1)\n",
    "test_palindrom(kata_2)\n",
    "test_palindrom('kasur rusak')\n",
    "\n",
    "\n",
    "#contoh pemanggilan fungsi\n",
    "#test_palindrom(kata_1)\n",
    "#test_palindrom(kata_2)\n",
    "\n",
    "#output\n",
    "#makam merupakan palindrom\n",
    "#makan bukan merupakan palindrom"
   ]
  },
  {
   "cell_type": "code",
   "execution_count": 54,
   "metadata": {},
   "outputs": [
    {
     "name": "stdout",
     "output_type": "stream",
     "text": [
      "finally\n"
     ]
    },
    {
     "ename": "NameError",
     "evalue": "name 'expection' is not defined",
     "output_type": "error",
     "traceback": [
      "\u001b[1;31m---------------------------------------------------------------------------\u001b[0m",
      "\u001b[1;31mTypeError\u001b[0m                                 Traceback (most recent call last)",
      "\u001b[1;32m<ipython-input-54-e2cea9433b7e>\u001b[0m in \u001b[0;36m<module>\u001b[1;34m\u001b[0m\n\u001b[0;32m      4\u001b[0m \u001b[1;32mtry\u001b[0m\u001b[1;33m:\u001b[0m\u001b[1;33m\u001b[0m\u001b[1;33m\u001b[0m\u001b[0m\n\u001b[1;32m----> 5\u001b[1;33m     \u001b[0mc\u001b[0m \u001b[1;33m=\u001b[0m \u001b[0ma\u001b[0m\u001b[1;33m/\u001b[0m\u001b[0mb\u001b[0m\u001b[1;33m\u001b[0m\u001b[1;33m\u001b[0m\u001b[0m\n\u001b[0m\u001b[0;32m      6\u001b[0m \u001b[1;32mexcept\u001b[0m \u001b[0mexpection\u001b[0m \u001b[1;32mas\u001b[0m \u001b[0me\u001b[0m\u001b[1;33m:\u001b[0m\u001b[1;33m\u001b[0m\u001b[1;33m\u001b[0m\u001b[0m\n",
      "\u001b[1;31mTypeError\u001b[0m: unsupported operand type(s) for /: 'tuple' and 'tuple'",
      "\nDuring handling of the above exception, another exception occurred:\n",
      "\u001b[1;31mNameError\u001b[0m                                 Traceback (most recent call last)",
      "\u001b[1;32m<ipython-input-54-e2cea9433b7e>\u001b[0m in \u001b[0;36m<module>\u001b[1;34m\u001b[0m\n\u001b[0;32m      4\u001b[0m \u001b[1;32mtry\u001b[0m\u001b[1;33m:\u001b[0m\u001b[1;33m\u001b[0m\u001b[1;33m\u001b[0m\u001b[0m\n\u001b[0;32m      5\u001b[0m     \u001b[0mc\u001b[0m \u001b[1;33m=\u001b[0m \u001b[0ma\u001b[0m\u001b[1;33m/\u001b[0m\u001b[0mb\u001b[0m\u001b[1;33m\u001b[0m\u001b[1;33m\u001b[0m\u001b[0m\n\u001b[1;32m----> 6\u001b[1;33m \u001b[1;32mexcept\u001b[0m \u001b[0mexpection\u001b[0m \u001b[1;32mas\u001b[0m \u001b[0me\u001b[0m\u001b[1;33m:\u001b[0m\u001b[1;33m\u001b[0m\u001b[1;33m\u001b[0m\u001b[0m\n\u001b[0m\u001b[0;32m      7\u001b[0m     \u001b[0mprint\u001b[0m\u001b[1;33m(\u001b[0m\u001b[1;34m'raising error in:'\u001b[0m\u001b[1;33m,\u001b[0m\u001b[0me\u001b[0m\u001b[1;33m)\u001b[0m\u001b[1;33m\u001b[0m\u001b[1;33m\u001b[0m\u001b[0m\n\u001b[0;32m      8\u001b[0m \u001b[1;32mfinally\u001b[0m\u001b[1;33m:\u001b[0m\u001b[1;33m\u001b[0m\u001b[1;33m\u001b[0m\u001b[0m\n",
      "\u001b[1;31mNameError\u001b[0m: name 'expection' is not defined"
     ]
    }
   ],
   "source": [
    "a = (1,2,3,4)\n",
    "b = (2,3,4,5)\n",
    "\n",
    "try:\n",
    "    c = a/b\n",
    "except expection as e:\n",
    "    print('raising error in:',e)\n",
    "finally:\n",
    "    print('finally')\n"
   ]
  },
  {
   "cell_type": "code",
   "execution_count": null,
   "metadata": {},
   "outputs": [],
   "source": []
  }
 ],
 "metadata": {
  "interpreter": {
   "hash": "c5e48f84046969b800ff52f6d80523bcd1ca3fb1a99f1449e4197bf6c73dc096"
  },
  "kernelspec": {
   "display_name": "Python 3.8.8 64-bit ('base': conda)",
   "name": "python3"
  },
  "language_info": {
   "codemirror_mode": {
    "name": "ipython",
    "version": 3
   },
   "file_extension": ".py",
   "mimetype": "text/x-python",
   "name": "python",
   "nbconvert_exporter": "python",
   "pygments_lexer": "ipython3",
   "version": "3.8.8"
  },
  "orig_nbformat": 2
 },
 "nbformat": 4,
 "nbformat_minor": 2
}
