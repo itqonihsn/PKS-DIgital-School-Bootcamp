{
 "cells": [
  {
   "cell_type": "markdown",
   "metadata": {},
   "source": [
    "1. Buatlah 3 variabel yang masing-masing berisi\n",
    "    \n",
    "    a. Nama depan (string)\n",
    "    \n",
    "    b. Umur (integer)\n",
    "    \n",
    "    c. kota tinggal (string)"
   ]
  },
  {
   "cell_type": "code",
   "execution_count": 9,
   "metadata": {},
   "outputs": [],
   "source": [
    "nama_depan = ('Muhammad','Hasan','Itqoni','Husein')\n",
    "umur = (23,24,25,26)\n",
    "kota_tinggal = ('Depok','Bekasi','Tangerang','Jakarta')"
   ]
  },
  {
   "cell_type": "markdown",
   "metadata": {},
   "source": [
    "2. Tampilkan semua variabel pada soal no 1 menjadi sebuah kalimat dengan menggunakan metode print()"
   ]
  },
  {
   "cell_type": "code",
   "execution_count": 39,
   "metadata": {},
   "outputs": [
    {
     "name": "stdout",
     "output_type": "stream",
     "text": [
      "Nama saya adalah Muhammad, berusia 23 tahun dan tinggal di Depok\n",
      "Nama saya adalah Hasan, berusia 24 tahun dan tinggal di Bekasi\n",
      "Nama saya adalah Itqoni, berusia 25 tahun dan tinggal di Tangerang\n",
      "Nama saya adalah Husein, berusia 26 tahun dan tinggal di Jakarta\n",
      "Nama saya adalah Muhammad, berusia 23 tahun dan tinggal di Depok\n",
      "Nama saya adalah Hasan, berusia 24 tahun dan tinggal di Bekasi\n",
      "Nama saya adalah Itqoni, berusia 25 tahun dan tinggal di Tangerang\n"
     ]
    }
   ],
   "source": [
    "print('Nama saya adalah {}, berusia {} tahun dan tinggal di {}'.format(nama_depan[0],umur[0],kota_tinggal[0]))\n",
    "print('Nama saya adalah {}, berusia {} tahun dan tinggal di {}'.format(nama_depan[1],umur[1],kota_tinggal[1]))\n",
    "print('Nama saya adalah {}, berusia {} tahun dan tinggal di {}'.format(nama_depan[2],umur[2],kota_tinggal[2]))\n",
    "print('Nama saya adalah {}, berusia {} tahun dan tinggal di {}'.format(nama_depan[3],umur[3],kota_tinggal[3]))\n",
    "#contoh keluaran yang diharapkan : \"Nama saya adalah Thio, berusia 28 tahun dan tinggal di Bandung.\"\n",
    "indeks = 0\n",
    "for i in nama_depan,umur,kota_tinggal:\n",
    "    print('Nama saya adalah {}, berusia {} tahun dan tinggal di {}'.format(nama_depan[indeks],umur[indeks],kota_tinggal[indeks]))\n",
    "    indeks += 1"
   ]
  },
  {
   "cell_type": "markdown",
   "metadata": {},
   "source": [
    "3. Dengan menggunakan salah satu string method, ubah kata mangga pada variabel kalimat menjadi apel dan masukkan pada variabel kalimat_2 lalu print variabel kalimat_2"
   ]
  },
  {
   "cell_type": "code",
   "execution_count": 26,
   "metadata": {},
   "outputs": [
    {
     "name": "stdout",
     "output_type": "stream",
     "text": [
      "Budi menyukai buah apel\n"
     ]
    }
   ],
   "source": [
    "#kerjakan soal no 3 pada bagian sel ini\n",
    "kalimat = 'Budi menyukai buah mangga'\n",
    "kalimat_2 = kalimat.replace('mangga','apel')\n",
    "print(kalimat_2)\n"
   ]
  },
  {
   "cell_type": "code",
   "execution_count": 29,
   "metadata": {},
   "outputs": [
    {
     "data": {
      "text/plain": [
       "2"
      ]
     },
     "execution_count": 29,
     "metadata": {},
     "output_type": "execute_result"
    }
   ],
   "source": [
    "j = (1,2,3,4)\n",
    "j[1]"
   ]
  },
  {
   "cell_type": "code",
   "execution_count": null,
   "metadata": {},
   "outputs": [],
   "source": []
  }
 ],
 "metadata": {
  "interpreter": {
   "hash": "c5e48f84046969b800ff52f6d80523bcd1ca3fb1a99f1449e4197bf6c73dc096"
  },
  "kernelspec": {
   "display_name": "Python 3.8.8 64-bit ('base': conda)",
   "name": "python3"
  },
  "language_info": {
   "codemirror_mode": {
    "name": "ipython",
    "version": 3
   },
   "file_extension": ".py",
   "mimetype": "text/x-python",
   "name": "python",
   "nbconvert_exporter": "python",
   "pygments_lexer": "ipython3",
   "version": "3.8.8"
  },
  "orig_nbformat": 2
 },
 "nbformat": 4,
 "nbformat_minor": 2
}
