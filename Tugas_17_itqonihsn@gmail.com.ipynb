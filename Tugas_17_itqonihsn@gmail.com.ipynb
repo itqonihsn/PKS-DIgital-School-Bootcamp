{
 "cells": [
  {
   "cell_type": "markdown",
   "metadata": {},
   "source": [
    "Pada kesempatan kali ini kita akan melakukan pengolahan data covid-19 di Indonesia. Data ini diambil dari situs kawalcovid19.\n",
    "Data diambil sebagian dari tanggal 1 Juli 2021 - 14 November 2021.\n",
    "\n",
    "Pada kesempatan kali ini kita akan coba melakukan forecasting dengan menerapkan metode data science yang sudah kita pelajari sebelumnya"
   ]
  },
  {
   "cell_type": "markdown",
   "metadata": {},
   "source": [
    "1. Business Understanding / Question\n",
    "\n",
    "Pada kesempatan kali ini kita ingin mengetahui bagaimana perkembangan kasus baru pada tanggal 15 Nov 2021 - 14 Des 2021 di Indonesia. Jika diasumsikan tidak adanya outbreak mendadak dan masuknya varian baru apakah kasusnya bisa menurun dan sejauh apa menurunnya. "
   ]
  },
  {
   "cell_type": "markdown",
   "metadata": {},
   "source": [
    "2. Data Collection \n",
    "\n",
    "Disini kita akan mencoba untuk mengumpulkan data yang kita butuhkan. Beruntungnya, kita sudah memiliki datanya dan hanya tinggal melakukan pemanggilan."
   ]
  },
  {
   "cell_type": "code",
   "execution_count": 71,
   "metadata": {},
   "outputs": [],
   "source": [
    "#import semua package/library pada sel ini, jika butuh memasukkan package/library baru maka run ulang sel ini\n",
    "import numpy as np\n",
    "import pandas as pd\n",
    "import matplotlib.pyplot as plt\n",
    "from sklearn.model_selection import train_test_split as tts\n",
    "from sklearn.linear_model import LinearRegression as lr \n",
    "from sklearn.preprocessing import PolynomialFeatures\n",
    "from sklearn import metrics  \n"
   ]
  },
  {
   "cell_type": "code",
   "execution_count": 2,
   "metadata": {},
   "outputs": [
    {
     "data": {
      "text/html": [
       "<div>\n",
       "<style scoped>\n",
       "    .dataframe tbody tr th:only-of-type {\n",
       "        vertical-align: middle;\n",
       "    }\n",
       "\n",
       "    .dataframe tbody tr th {\n",
       "        vertical-align: top;\n",
       "    }\n",
       "\n",
       "    .dataframe thead th {\n",
       "        text-align: right;\n",
       "    }\n",
       "</style>\n",
       "<table border=\"1\" class=\"dataframe\">\n",
       "  <thead>\n",
       "    <tr style=\"text-align: right;\">\n",
       "      <th></th>\n",
       "      <th>Tanggal</th>\n",
       "      <th>Kasus_harian</th>\n",
       "      <th>Total_kasus</th>\n",
       "      <th>Kasus_aktif</th>\n",
       "      <th>Sembuh_baru</th>\n",
       "      <th>Sembuh</th>\n",
       "      <th>Meninggal_baru</th>\n",
       "      <th>Meninggal_Dunia</th>\n",
       "    </tr>\n",
       "  </thead>\n",
       "  <tbody>\n",
       "    <tr>\n",
       "      <th>0</th>\n",
       "      <td>2021-07-01</td>\n",
       "      <td>24836</td>\n",
       "      <td>2203108</td>\n",
       "      <td>253826</td>\n",
       "      <td>9874</td>\n",
       "      <td>1890287</td>\n",
       "      <td>504</td>\n",
       "      <td>58995</td>\n",
       "    </tr>\n",
       "    <tr>\n",
       "      <th>1</th>\n",
       "      <td>2021-07-02</td>\n",
       "      <td>25830</td>\n",
       "      <td>2228938</td>\n",
       "      <td>267539</td>\n",
       "      <td>11578</td>\n",
       "      <td>1901865</td>\n",
       "      <td>539</td>\n",
       "      <td>59534</td>\n",
       "    </tr>\n",
       "    <tr>\n",
       "      <th>2</th>\n",
       "      <td>2021-07-03</td>\n",
       "      <td>27913</td>\n",
       "      <td>2256851</td>\n",
       "      <td>281677</td>\n",
       "      <td>13282</td>\n",
       "      <td>1915147</td>\n",
       "      <td>493</td>\n",
       "      <td>60027</td>\n",
       "    </tr>\n",
       "    <tr>\n",
       "      <th>3</th>\n",
       "      <td>2021-07-04</td>\n",
       "      <td>27233</td>\n",
       "      <td>2284084</td>\n",
       "      <td>295228</td>\n",
       "      <td>13127</td>\n",
       "      <td>1928274</td>\n",
       "      <td>555</td>\n",
       "      <td>60582</td>\n",
       "    </tr>\n",
       "    <tr>\n",
       "      <th>4</th>\n",
       "      <td>2021-07-05</td>\n",
       "      <td>29745</td>\n",
       "      <td>2313829</td>\n",
       "      <td>309999</td>\n",
       "      <td>14416</td>\n",
       "      <td>1942690</td>\n",
       "      <td>558</td>\n",
       "      <td>61140</td>\n",
       "    </tr>\n",
       "  </tbody>\n",
       "</table>\n",
       "</div>"
      ],
      "text/plain": [
       "      Tanggal  Kasus_harian  Total_kasus  Kasus_aktif  Sembuh_baru   Sembuh  \\\n",
       "0  2021-07-01         24836      2203108       253826         9874  1890287   \n",
       "1  2021-07-02         25830      2228938       267539        11578  1901865   \n",
       "2  2021-07-03         27913      2256851       281677        13282  1915147   \n",
       "3  2021-07-04         27233      2284084       295228        13127  1928274   \n",
       "4  2021-07-05         29745      2313829       309999        14416  1942690   \n",
       "\n",
       "   Meninggal_baru  Meninggal_Dunia  \n",
       "0             504            58995  \n",
       "1             539            59534  \n",
       "2             493            60027  \n",
       "3             555            60582  \n",
       "4             558            61140  "
      ]
     },
     "execution_count": 2,
     "metadata": {},
     "output_type": "execute_result"
    }
   ],
   "source": [
    "#panggil dalam bentuk dataframe pada langkah kali ini, dan tampilkan dengan metode head\n",
    "df = pd.read_csv('covid_indonesia_2.csv')\n",
    "df.head()\n"
   ]
  },
  {
   "cell_type": "markdown",
   "metadata": {},
   "source": [
    "2. Data Preparation\n",
    "\n",
    "Pada langkah ini kita akan menyiapkan data yang kita butuhkan. kita akan menggunakan dua kolom pada kesempatan kali ini yaitu total kasus dan tanggal. pertama kita lihat dulu detail dari dataset kita."
   ]
  },
  {
   "cell_type": "code",
   "execution_count": 3,
   "metadata": {},
   "outputs": [
    {
     "data": {
      "text/html": [
       "<div>\n",
       "<style scoped>\n",
       "    .dataframe tbody tr th:only-of-type {\n",
       "        vertical-align: middle;\n",
       "    }\n",
       "\n",
       "    .dataframe tbody tr th {\n",
       "        vertical-align: top;\n",
       "    }\n",
       "\n",
       "    .dataframe thead th {\n",
       "        text-align: right;\n",
       "    }\n",
       "</style>\n",
       "<table border=\"1\" class=\"dataframe\">\n",
       "  <thead>\n",
       "    <tr style=\"text-align: right;\">\n",
       "      <th></th>\n",
       "      <th>Kasus_harian</th>\n",
       "      <th>Total_kasus</th>\n",
       "      <th>Kasus_aktif</th>\n",
       "      <th>Sembuh_baru</th>\n",
       "      <th>Sembuh</th>\n",
       "      <th>Meninggal_baru</th>\n",
       "      <th>Meninggal_Dunia</th>\n",
       "    </tr>\n",
       "  </thead>\n",
       "  <tbody>\n",
       "    <tr>\n",
       "      <th>count</th>\n",
       "      <td>137.000000</td>\n",
       "      <td>1.370000e+02</td>\n",
       "      <td>137.000000</td>\n",
       "      <td>137.000000</td>\n",
       "      <td>1.370000e+02</td>\n",
       "      <td>137.000000</td>\n",
       "      <td>137.00000</td>\n",
       "    </tr>\n",
       "    <tr>\n",
       "      <th>mean</th>\n",
       "      <td>15128.343066</td>\n",
       "      <td>3.800636e+06</td>\n",
       "      <td>212836.240876</td>\n",
       "      <td>16188.065693</td>\n",
       "      <td>3.467221e+06</td>\n",
       "      <td>621.664234</td>\n",
       "      <td>120578.20438</td>\n",
       "    </tr>\n",
       "    <tr>\n",
       "      <th>std</th>\n",
       "      <td>16758.477055</td>\n",
       "      <td>6.121355e+05</td>\n",
       "      <td>201927.468029</td>\n",
       "      <td>15064.380154</td>\n",
       "      <td>7.427454e+05</td>\n",
       "      <td>614.988956</td>\n",
       "      <td>28539.47019</td>\n",
       "    </tr>\n",
       "    <tr>\n",
       "      <th>min</th>\n",
       "      <td>244.000000</td>\n",
       "      <td>2.203108e+06</td>\n",
       "      <td>9018.000000</td>\n",
       "      <td>451.000000</td>\n",
       "      <td>1.890287e+06</td>\n",
       "      <td>11.000000</td>\n",
       "      <td>58995.00000</td>\n",
       "    </tr>\n",
       "    <tr>\n",
       "      <th>25%</th>\n",
       "      <td>1053.000000</td>\n",
       "      <td>3.532567e+06</td>\n",
       "      <td>22541.000000</td>\n",
       "      <td>1946.000000</td>\n",
       "      <td>2.907920e+06</td>\n",
       "      <td>50.000000</td>\n",
       "      <td>100636.00000</td>\n",
       "    </tr>\n",
       "    <tr>\n",
       "      <th>50%</th>\n",
       "      <td>5436.000000</td>\n",
       "      <td>4.140634e+06</td>\n",
       "      <td>138630.000000</td>\n",
       "      <td>12474.000000</td>\n",
       "      <td>3.864848e+06</td>\n",
       "      <td>493.000000</td>\n",
       "      <td>137156.00000</td>\n",
       "    </tr>\n",
       "    <tr>\n",
       "      <th>75%</th>\n",
       "      <td>29745.000000</td>\n",
       "      <td>4.228552e+06</td>\n",
       "      <td>380797.000000</td>\n",
       "      <td>29794.000000</td>\n",
       "      <td>4.063295e+06</td>\n",
       "      <td>1128.000000</td>\n",
       "      <td>142716.00000</td>\n",
       "    </tr>\n",
       "    <tr>\n",
       "      <th>max</th>\n",
       "      <td>56757.000000</td>\n",
       "      <td>4.250855e+06</td>\n",
       "      <td>574135.000000</td>\n",
       "      <td>48832.000000</td>\n",
       "      <td>4.098178e+06</td>\n",
       "      <td>2069.000000</td>\n",
       "      <td>143659.00000</td>\n",
       "    </tr>\n",
       "  </tbody>\n",
       "</table>\n",
       "</div>"
      ],
      "text/plain": [
       "       Kasus_harian   Total_kasus    Kasus_aktif   Sembuh_baru        Sembuh  \\\n",
       "count    137.000000  1.370000e+02     137.000000    137.000000  1.370000e+02   \n",
       "mean   15128.343066  3.800636e+06  212836.240876  16188.065693  3.467221e+06   \n",
       "std    16758.477055  6.121355e+05  201927.468029  15064.380154  7.427454e+05   \n",
       "min      244.000000  2.203108e+06    9018.000000    451.000000  1.890287e+06   \n",
       "25%     1053.000000  3.532567e+06   22541.000000   1946.000000  2.907920e+06   \n",
       "50%     5436.000000  4.140634e+06  138630.000000  12474.000000  3.864848e+06   \n",
       "75%    29745.000000  4.228552e+06  380797.000000  29794.000000  4.063295e+06   \n",
       "max    56757.000000  4.250855e+06  574135.000000  48832.000000  4.098178e+06   \n",
       "\n",
       "       Meninggal_baru  Meninggal_Dunia  \n",
       "count      137.000000        137.00000  \n",
       "mean       621.664234     120578.20438  \n",
       "std        614.988956      28539.47019  \n",
       "min         11.000000      58995.00000  \n",
       "25%         50.000000     100636.00000  \n",
       "50%        493.000000     137156.00000  \n",
       "75%       1128.000000     142716.00000  \n",
       "max       2069.000000     143659.00000  "
      ]
     },
     "execution_count": 3,
     "metadata": {},
     "output_type": "execute_result"
    }
   ],
   "source": [
    "#tuliskan kode disini\n",
    "df.describe()"
   ]
  },
  {
   "cell_type": "markdown",
   "metadata": {},
   "source": [
    "lalu kita lihat tipe data dari semua kolom pada dataset"
   ]
  },
  {
   "cell_type": "code",
   "execution_count": 4,
   "metadata": {},
   "outputs": [
    {
     "data": {
      "text/plain": [
       "Tanggal            object\n",
       "Kasus_harian        int64\n",
       "Total_kasus         int64\n",
       "Kasus_aktif         int64\n",
       "Sembuh_baru         int64\n",
       "Sembuh              int64\n",
       "Meninggal_baru      int64\n",
       "Meninggal_Dunia     int64\n",
       "dtype: object"
      ]
     },
     "execution_count": 4,
     "metadata": {},
     "output_type": "execute_result"
    }
   ],
   "source": [
    "#tuliskan kode disini\n",
    "df.dtypes"
   ]
  },
  {
   "cell_type": "markdown",
   "metadata": {},
   "source": [
    "Karena yang akan kita gunakan adalah kolom tanggal sebagai time-series dan kasus harian sebagai input kita. maka kita perhatikan dua kolom tersebut.\n",
    "Pada detail kasus harian terlihat nilai max dan min yang sangat jauh dengan 50% data berada di angka 5000 an. jauh dari rata-rata di 15000 an. sehingga kita perlu melakukan normalisasi pada kolom tersebut. Lalu karena mesin kita bekerja dengan numerik, maka kita akan ubah tanggal kita jadi numerik."
   ]
  },
  {
   "cell_type": "code",
   "execution_count": 5,
   "metadata": {},
   "outputs": [
    {
     "data": {
      "text/html": [
       "<div>\n",
       "<style scoped>\n",
       "    .dataframe tbody tr th:only-of-type {\n",
       "        vertical-align: middle;\n",
       "    }\n",
       "\n",
       "    .dataframe tbody tr th {\n",
       "        vertical-align: top;\n",
       "    }\n",
       "\n",
       "    .dataframe thead th {\n",
       "        text-align: right;\n",
       "    }\n",
       "</style>\n",
       "<table border=\"1\" class=\"dataframe\">\n",
       "  <thead>\n",
       "    <tr style=\"text-align: right;\">\n",
       "      <th></th>\n",
       "      <th>Tanggal</th>\n",
       "      <th>Kasus_harian</th>\n",
       "      <th>Total_kasus</th>\n",
       "      <th>Kasus_aktif</th>\n",
       "      <th>Sembuh_baru</th>\n",
       "      <th>Sembuh</th>\n",
       "      <th>Meninggal_baru</th>\n",
       "      <th>Meninggal_Dunia</th>\n",
       "      <th>cases_norm</th>\n",
       "    </tr>\n",
       "  </thead>\n",
       "  <tbody>\n",
       "    <tr>\n",
       "      <th>0</th>\n",
       "      <td>2021-07-01</td>\n",
       "      <td>24836</td>\n",
       "      <td>2203108</td>\n",
       "      <td>253826</td>\n",
       "      <td>9874</td>\n",
       "      <td>1890287</td>\n",
       "      <td>504</td>\n",
       "      <td>58995</td>\n",
       "      <td>10.120049</td>\n",
       "    </tr>\n",
       "    <tr>\n",
       "      <th>1</th>\n",
       "      <td>2021-07-02</td>\n",
       "      <td>25830</td>\n",
       "      <td>2228938</td>\n",
       "      <td>267539</td>\n",
       "      <td>11578</td>\n",
       "      <td>1901865</td>\n",
       "      <td>539</td>\n",
       "      <td>59534</td>\n",
       "      <td>10.159292</td>\n",
       "    </tr>\n",
       "    <tr>\n",
       "      <th>2</th>\n",
       "      <td>2021-07-03</td>\n",
       "      <td>27913</td>\n",
       "      <td>2256851</td>\n",
       "      <td>281677</td>\n",
       "      <td>13282</td>\n",
       "      <td>1915147</td>\n",
       "      <td>493</td>\n",
       "      <td>60027</td>\n",
       "      <td>10.236848</td>\n",
       "    </tr>\n",
       "    <tr>\n",
       "      <th>3</th>\n",
       "      <td>2021-07-04</td>\n",
       "      <td>27233</td>\n",
       "      <td>2284084</td>\n",
       "      <td>295228</td>\n",
       "      <td>13127</td>\n",
       "      <td>1928274</td>\n",
       "      <td>555</td>\n",
       "      <td>60582</td>\n",
       "      <td>10.212185</td>\n",
       "    </tr>\n",
       "    <tr>\n",
       "      <th>4</th>\n",
       "      <td>2021-07-05</td>\n",
       "      <td>29745</td>\n",
       "      <td>2313829</td>\n",
       "      <td>309999</td>\n",
       "      <td>14416</td>\n",
       "      <td>1942690</td>\n",
       "      <td>558</td>\n",
       "      <td>61140</td>\n",
       "      <td>10.300416</td>\n",
       "    </tr>\n",
       "    <tr>\n",
       "      <th>...</th>\n",
       "      <td>...</td>\n",
       "      <td>...</td>\n",
       "      <td>...</td>\n",
       "      <td>...</td>\n",
       "      <td>...</td>\n",
       "      <td>...</td>\n",
       "      <td>...</td>\n",
       "      <td>...</td>\n",
       "      <td>...</td>\n",
       "    </tr>\n",
       "    <tr>\n",
       "      <th>132</th>\n",
       "      <td>2021-11-10</td>\n",
       "      <td>480</td>\n",
       "      <td>4249323</td>\n",
       "      <td>9537</td>\n",
       "      <td>531</td>\n",
       "      <td>4096194</td>\n",
       "      <td>14</td>\n",
       "      <td>143592</td>\n",
       "      <td>6.173786</td>\n",
       "    </tr>\n",
       "    <tr>\n",
       "      <th>133</th>\n",
       "      <td>2021-11-11</td>\n",
       "      <td>435</td>\n",
       "      <td>4249758</td>\n",
       "      <td>9486</td>\n",
       "      <td>470</td>\n",
       "      <td>4096664</td>\n",
       "      <td>16</td>\n",
       "      <td>143608</td>\n",
       "      <td>6.075346</td>\n",
       "    </tr>\n",
       "    <tr>\n",
       "      <th>134</th>\n",
       "      <td>2021-11-12</td>\n",
       "      <td>399</td>\n",
       "      <td>4250157</td>\n",
       "      <td>9305</td>\n",
       "      <td>560</td>\n",
       "      <td>4097224</td>\n",
       "      <td>20</td>\n",
       "      <td>143628</td>\n",
       "      <td>5.988961</td>\n",
       "    </tr>\n",
       "    <tr>\n",
       "      <th>135</th>\n",
       "      <td>2021-11-13</td>\n",
       "      <td>359</td>\n",
       "      <td>4250516</td>\n",
       "      <td>9198</td>\n",
       "      <td>451</td>\n",
       "      <td>4097675</td>\n",
       "      <td>15</td>\n",
       "      <td>143643</td>\n",
       "      <td>5.883322</td>\n",
       "    </tr>\n",
       "    <tr>\n",
       "      <th>136</th>\n",
       "      <td>2021-11-14</td>\n",
       "      <td>339</td>\n",
       "      <td>4250855</td>\n",
       "      <td>9018</td>\n",
       "      <td>503</td>\n",
       "      <td>4098178</td>\n",
       "      <td>16</td>\n",
       "      <td>143659</td>\n",
       "      <td>5.826000</td>\n",
       "    </tr>\n",
       "  </tbody>\n",
       "</table>\n",
       "<p>137 rows × 9 columns</p>\n",
       "</div>"
      ],
      "text/plain": [
       "        Tanggal  Kasus_harian  Total_kasus  Kasus_aktif  Sembuh_baru   Sembuh  \\\n",
       "0    2021-07-01         24836      2203108       253826         9874  1890287   \n",
       "1    2021-07-02         25830      2228938       267539        11578  1901865   \n",
       "2    2021-07-03         27913      2256851       281677        13282  1915147   \n",
       "3    2021-07-04         27233      2284084       295228        13127  1928274   \n",
       "4    2021-07-05         29745      2313829       309999        14416  1942690   \n",
       "..          ...           ...          ...          ...          ...      ...   \n",
       "132  2021-11-10           480      4249323         9537          531  4096194   \n",
       "133  2021-11-11           435      4249758         9486          470  4096664   \n",
       "134  2021-11-12           399      4250157         9305          560  4097224   \n",
       "135  2021-11-13           359      4250516         9198          451  4097675   \n",
       "136  2021-11-14           339      4250855         9018          503  4098178   \n",
       "\n",
       "     Meninggal_baru  Meninggal_Dunia  cases_norm  \n",
       "0               504            58995   10.120049  \n",
       "1               539            59534   10.159292  \n",
       "2               493            60027   10.236848  \n",
       "3               555            60582   10.212185  \n",
       "4               558            61140   10.300416  \n",
       "..              ...              ...         ...  \n",
       "132              14           143592    6.173786  \n",
       "133              16           143608    6.075346  \n",
       "134              20           143628    5.988961  \n",
       "135              15           143643    5.883322  \n",
       "136              16           143659    5.826000  \n",
       "\n",
       "[137 rows x 9 columns]"
      ]
     },
     "execution_count": 5,
     "metadata": {},
     "output_type": "execute_result"
    }
   ],
   "source": [
    "'''pada kolom ini kita akan melakukan transformasi dan menambahkan kolom baru pada dataframe kita. \n",
    "Kita beri nama kolom baru dengan data hasil normalisasi tersebut sebagai cases_norm.\n",
    "Pada bagian ini saya akan menggunakan metode logaritmik, dipersilahkan jika peserta ingin menggunakan metode yang lain\n",
    "'''\n",
    "df.insert(len(df.columns), 'cases_norm',\n",
    "         np.log(df['Kasus_harian']))\n",
    "df"
   ]
  },
  {
   "cell_type": "markdown",
   "metadata": {},
   "source": [
    "Setelah ini kita akan mengubah kolom tanggal menjadi kolom numerik dengan 1 Juli 2021 sebagai dasar. \n",
    "Artinya saya akan mengubah \n",
    "\n",
    "2021-07-01 menjadi 0, \n",
    "\n",
    "2021-07-02 menjadi 1,\n",
    "\n",
    "dst."
   ]
  },
  {
   "cell_type": "code",
   "execution_count": 18,
   "metadata": {},
   "outputs": [
    {
     "name": "stdout",
     "output_type": "stream",
     "text": [
      "nilai default_date adalah : 2021-07-01 00:00:00\n"
     ]
    }
   ],
   "source": [
    "'''Dengan memanfaatkan metode to_datetime pada pandas silahkan ubah row index 0 pada tanggal dan masukkan pada suatu variabel bernama default_date.\n",
    "Nilai inilah yang akan menjadi nilai pengurang untuk tanggal lainnya\n",
    "'''\n",
    "default_date = pd.to_datetime(df.Tanggal[0])\n",
    "print(f'nilai default_date adalah : {default_date}')"
   ]
  },
  {
   "cell_type": "markdown",
   "metadata": {},
   "source": [
    "Sekarang kita akan membuat fungsi yang akan mengubah semua tanggal pada kolom menjadi numerik dengan basis pada tanggal 1 Juli 2021."
   ]
  },
  {
   "cell_type": "code",
   "execution_count": 46,
   "metadata": {},
   "outputs": [
    {
     "data": {
      "text/html": [
       "<div>\n",
       "<style scoped>\n",
       "    .dataframe tbody tr th:only-of-type {\n",
       "        vertical-align: middle;\n",
       "    }\n",
       "\n",
       "    .dataframe tbody tr th {\n",
       "        vertical-align: top;\n",
       "    }\n",
       "\n",
       "    .dataframe thead th {\n",
       "        text-align: right;\n",
       "    }\n",
       "</style>\n",
       "<table border=\"1\" class=\"dataframe\">\n",
       "  <thead>\n",
       "    <tr style=\"text-align: right;\">\n",
       "      <th></th>\n",
       "      <th>Tanggal</th>\n",
       "      <th>Kasus_harian</th>\n",
       "      <th>Total_kasus</th>\n",
       "      <th>Kasus_aktif</th>\n",
       "      <th>Sembuh_baru</th>\n",
       "      <th>Sembuh</th>\n",
       "      <th>Meninggal_baru</th>\n",
       "      <th>Meninggal_Dunia</th>\n",
       "      <th>cases_norm</th>\n",
       "      <th>days</th>\n",
       "    </tr>\n",
       "  </thead>\n",
       "  <tbody>\n",
       "    <tr>\n",
       "      <th>0</th>\n",
       "      <td>2021-07-01</td>\n",
       "      <td>24836</td>\n",
       "      <td>2203108</td>\n",
       "      <td>253826</td>\n",
       "      <td>9874</td>\n",
       "      <td>1890287</td>\n",
       "      <td>504</td>\n",
       "      <td>58995</td>\n",
       "      <td>10.120049</td>\n",
       "      <td>0</td>\n",
       "    </tr>\n",
       "    <tr>\n",
       "      <th>1</th>\n",
       "      <td>2021-07-02</td>\n",
       "      <td>25830</td>\n",
       "      <td>2228938</td>\n",
       "      <td>267539</td>\n",
       "      <td>11578</td>\n",
       "      <td>1901865</td>\n",
       "      <td>539</td>\n",
       "      <td>59534</td>\n",
       "      <td>10.159292</td>\n",
       "      <td>1</td>\n",
       "    </tr>\n",
       "    <tr>\n",
       "      <th>2</th>\n",
       "      <td>2021-07-03</td>\n",
       "      <td>27913</td>\n",
       "      <td>2256851</td>\n",
       "      <td>281677</td>\n",
       "      <td>13282</td>\n",
       "      <td>1915147</td>\n",
       "      <td>493</td>\n",
       "      <td>60027</td>\n",
       "      <td>10.236848</td>\n",
       "      <td>2</td>\n",
       "    </tr>\n",
       "    <tr>\n",
       "      <th>3</th>\n",
       "      <td>2021-07-04</td>\n",
       "      <td>27233</td>\n",
       "      <td>2284084</td>\n",
       "      <td>295228</td>\n",
       "      <td>13127</td>\n",
       "      <td>1928274</td>\n",
       "      <td>555</td>\n",
       "      <td>60582</td>\n",
       "      <td>10.212185</td>\n",
       "      <td>3</td>\n",
       "    </tr>\n",
       "    <tr>\n",
       "      <th>4</th>\n",
       "      <td>2021-07-05</td>\n",
       "      <td>29745</td>\n",
       "      <td>2313829</td>\n",
       "      <td>309999</td>\n",
       "      <td>14416</td>\n",
       "      <td>1942690</td>\n",
       "      <td>558</td>\n",
       "      <td>61140</td>\n",
       "      <td>10.300416</td>\n",
       "      <td>4</td>\n",
       "    </tr>\n",
       "    <tr>\n",
       "      <th>...</th>\n",
       "      <td>...</td>\n",
       "      <td>...</td>\n",
       "      <td>...</td>\n",
       "      <td>...</td>\n",
       "      <td>...</td>\n",
       "      <td>...</td>\n",
       "      <td>...</td>\n",
       "      <td>...</td>\n",
       "      <td>...</td>\n",
       "      <td>...</td>\n",
       "    </tr>\n",
       "    <tr>\n",
       "      <th>132</th>\n",
       "      <td>2021-11-10</td>\n",
       "      <td>480</td>\n",
       "      <td>4249323</td>\n",
       "      <td>9537</td>\n",
       "      <td>531</td>\n",
       "      <td>4096194</td>\n",
       "      <td>14</td>\n",
       "      <td>143592</td>\n",
       "      <td>6.173786</td>\n",
       "      <td>132</td>\n",
       "    </tr>\n",
       "    <tr>\n",
       "      <th>133</th>\n",
       "      <td>2021-11-11</td>\n",
       "      <td>435</td>\n",
       "      <td>4249758</td>\n",
       "      <td>9486</td>\n",
       "      <td>470</td>\n",
       "      <td>4096664</td>\n",
       "      <td>16</td>\n",
       "      <td>143608</td>\n",
       "      <td>6.075346</td>\n",
       "      <td>133</td>\n",
       "    </tr>\n",
       "    <tr>\n",
       "      <th>134</th>\n",
       "      <td>2021-11-12</td>\n",
       "      <td>399</td>\n",
       "      <td>4250157</td>\n",
       "      <td>9305</td>\n",
       "      <td>560</td>\n",
       "      <td>4097224</td>\n",
       "      <td>20</td>\n",
       "      <td>143628</td>\n",
       "      <td>5.988961</td>\n",
       "      <td>134</td>\n",
       "    </tr>\n",
       "    <tr>\n",
       "      <th>135</th>\n",
       "      <td>2021-11-13</td>\n",
       "      <td>359</td>\n",
       "      <td>4250516</td>\n",
       "      <td>9198</td>\n",
       "      <td>451</td>\n",
       "      <td>4097675</td>\n",
       "      <td>15</td>\n",
       "      <td>143643</td>\n",
       "      <td>5.883322</td>\n",
       "      <td>135</td>\n",
       "    </tr>\n",
       "    <tr>\n",
       "      <th>136</th>\n",
       "      <td>2021-11-14</td>\n",
       "      <td>339</td>\n",
       "      <td>4250855</td>\n",
       "      <td>9018</td>\n",
       "      <td>503</td>\n",
       "      <td>4098178</td>\n",
       "      <td>16</td>\n",
       "      <td>143659</td>\n",
       "      <td>5.826000</td>\n",
       "      <td>136</td>\n",
       "    </tr>\n",
       "  </tbody>\n",
       "</table>\n",
       "<p>137 rows × 10 columns</p>\n",
       "</div>"
      ],
      "text/plain": [
       "        Tanggal  Kasus_harian  Total_kasus  Kasus_aktif  Sembuh_baru   Sembuh  \\\n",
       "0    2021-07-01         24836      2203108       253826         9874  1890287   \n",
       "1    2021-07-02         25830      2228938       267539        11578  1901865   \n",
       "2    2021-07-03         27913      2256851       281677        13282  1915147   \n",
       "3    2021-07-04         27233      2284084       295228        13127  1928274   \n",
       "4    2021-07-05         29745      2313829       309999        14416  1942690   \n",
       "..          ...           ...          ...          ...          ...      ...   \n",
       "132  2021-11-10           480      4249323         9537          531  4096194   \n",
       "133  2021-11-11           435      4249758         9486          470  4096664   \n",
       "134  2021-11-12           399      4250157         9305          560  4097224   \n",
       "135  2021-11-13           359      4250516         9198          451  4097675   \n",
       "136  2021-11-14           339      4250855         9018          503  4098178   \n",
       "\n",
       "     Meninggal_baru  Meninggal_Dunia  cases_norm  days  \n",
       "0               504            58995   10.120049     0  \n",
       "1               539            59534   10.159292     1  \n",
       "2               493            60027   10.236848     2  \n",
       "3               555            60582   10.212185     3  \n",
       "4               558            61140   10.300416     4  \n",
       "..              ...              ...         ...   ...  \n",
       "132              14           143592    6.173786   132  \n",
       "133              16           143608    6.075346   133  \n",
       "134              20           143628    5.988961   134  \n",
       "135              15           143643    5.883322   135  \n",
       "136              16           143659    5.826000   136  \n",
       "\n",
       "[137 rows x 10 columns]"
      ]
     },
     "execution_count": 46,
     "metadata": {},
     "output_type": "execute_result"
    }
   ],
   "source": [
    "'''Pada kesempatan kali ini kita akan memanfaatkan apply() dan lambda().\n",
    "Kita akan masukkan pada sebuah kolom baru bernama days. lalu kita tampilkan dataframe terbaru\n",
    "Hint\n",
    "...['days'] = ....apply(lambda x: pd.Timedelta(pd.to_datetime(x) - ...).days)\n",
    "\n",
    "'''\n",
    "df['days'] = df.Tanggal.apply(lambda x: pd.Timedelta(pd.to_datetime(x) - default_date).days)\n",
    "df\n",
    "\n"
   ]
  },
  {
   "cell_type": "markdown",
   "metadata": {},
   "source": [
    "Langkah terakhir,\n",
    "Kita akan membuat copy dari data yang kolom cases_norm dan days ke dalam dataframe baru."
   ]
  },
  {
   "cell_type": "code",
   "execution_count": 48,
   "metadata": {},
   "outputs": [
    {
     "data": {
      "text/html": [
       "<div>\n",
       "<style scoped>\n",
       "    .dataframe tbody tr th:only-of-type {\n",
       "        vertical-align: middle;\n",
       "    }\n",
       "\n",
       "    .dataframe tbody tr th {\n",
       "        vertical-align: top;\n",
       "    }\n",
       "\n",
       "    .dataframe thead th {\n",
       "        text-align: right;\n",
       "    }\n",
       "</style>\n",
       "<table border=\"1\" class=\"dataframe\">\n",
       "  <thead>\n",
       "    <tr style=\"text-align: right;\">\n",
       "      <th></th>\n",
       "      <th>cases_norm</th>\n",
       "      <th>days</th>\n",
       "    </tr>\n",
       "  </thead>\n",
       "  <tbody>\n",
       "    <tr>\n",
       "      <th>0</th>\n",
       "      <td>10.120049</td>\n",
       "      <td>0</td>\n",
       "    </tr>\n",
       "    <tr>\n",
       "      <th>1</th>\n",
       "      <td>10.159292</td>\n",
       "      <td>1</td>\n",
       "    </tr>\n",
       "    <tr>\n",
       "      <th>2</th>\n",
       "      <td>10.236848</td>\n",
       "      <td>2</td>\n",
       "    </tr>\n",
       "    <tr>\n",
       "      <th>3</th>\n",
       "      <td>10.212185</td>\n",
       "      <td>3</td>\n",
       "    </tr>\n",
       "    <tr>\n",
       "      <th>4</th>\n",
       "      <td>10.300416</td>\n",
       "      <td>4</td>\n",
       "    </tr>\n",
       "    <tr>\n",
       "      <th>...</th>\n",
       "      <td>...</td>\n",
       "      <td>...</td>\n",
       "    </tr>\n",
       "    <tr>\n",
       "      <th>132</th>\n",
       "      <td>6.173786</td>\n",
       "      <td>132</td>\n",
       "    </tr>\n",
       "    <tr>\n",
       "      <th>133</th>\n",
       "      <td>6.075346</td>\n",
       "      <td>133</td>\n",
       "    </tr>\n",
       "    <tr>\n",
       "      <th>134</th>\n",
       "      <td>5.988961</td>\n",
       "      <td>134</td>\n",
       "    </tr>\n",
       "    <tr>\n",
       "      <th>135</th>\n",
       "      <td>5.883322</td>\n",
       "      <td>135</td>\n",
       "    </tr>\n",
       "    <tr>\n",
       "      <th>136</th>\n",
       "      <td>5.826000</td>\n",
       "      <td>136</td>\n",
       "    </tr>\n",
       "  </tbody>\n",
       "</table>\n",
       "<p>137 rows × 2 columns</p>\n",
       "</div>"
      ],
      "text/plain": [
       "     cases_norm  days\n",
       "0     10.120049     0\n",
       "1     10.159292     1\n",
       "2     10.236848     2\n",
       "3     10.212185     3\n",
       "4     10.300416     4\n",
       "..          ...   ...\n",
       "132    6.173786   132\n",
       "133    6.075346   133\n",
       "134    5.988961   134\n",
       "135    5.883322   135\n",
       "136    5.826000   136\n",
       "\n",
       "[137 rows x 2 columns]"
      ]
     },
     "execution_count": 48,
     "metadata": {},
     "output_type": "execute_result"
    }
   ],
   "source": [
    "#isikan pada sel ini dataframe terbaru dan tampilkan\n",
    "df2 = df[['cases_norm','days']]\n",
    "df2\n"
   ]
  },
  {
   "cell_type": "markdown",
   "metadata": {},
   "source": [
    "4. Data Processing\n",
    "\n",
    "Sekarang kita akan memproses data kita. Terdapat dua bagian, pertama adalah pembuatan model dan kedua adalah evaluasi sederhana."
   ]
  },
  {
   "cell_type": "code",
   "execution_count": 79,
   "metadata": {},
   "outputs": [
    {
     "name": "stdout",
     "output_type": "stream",
     "text": [
      "dimensi dari X_train : 109\n",
      "dimensi dari y_train : 109\n",
      "dimensi dari X_test : 28\n",
      "dimensi dari y_test : 28\n"
     ]
    }
   ],
   "source": [
    "#pembuatan model\n",
    "'''import/tambahkan semua package/library pada sel paling atas(terkait library)\n",
    "pada bagian kali ini kita akan mengubah days -- sumbu x dan cases_norm  -- sumbu y.\n",
    "masukkan kedua kolom tersebut pada variabel yang bersesuaian. ubah menjadi bentuk numpy array dengan np.array()\n",
    "Hint: gunakan .reshape((-1, 1)) pada sumbu x saat mengubah menjadi np.array agar mengubah dimensi array tersebut.\n",
    "kita bagi menjadi data training dan test dengan test_size = 0.2\n",
    "'''\n",
    "kasus = np.array(df2[['cases_norm']]).reshape((-1,1))\n",
    "hari = np.array(df2[['days']]).reshape((-1,1))\n",
    "X_train, X_test, y_train, y_test = tts(hari, kasus, random_state=42,test_size=0.2)\n",
    "\n",
    "print(f'dimensi dari X_train : {len(X_train)}')\n",
    "print(f'dimensi dari y_train : {len(y_train)}')\n",
    "print(f'dimensi dari X_test : {len(X_test)}')\n",
    "print(f'dimensi dari y_test : {len(y_test)}')\n",
    "\n",
    "\n"
   ]
  },
  {
   "cell_type": "code",
   "execution_count": 80,
   "metadata": {},
   "outputs": [
    {
     "data": {
      "image/png": "[encoded data removed]",
      "text/plain": [
       "<Figure size 432x288 with 1 Axes>"
      ]
     },
     "metadata": {
      "needs_background": "light"
     },
     "output_type": "display_data"
    }
   ],
   "source": [
    "plt.scatter(X_train, y_train)\n",
    "plt.xlabel('Hari ke-')\n",
    "plt.ylabel('Kasus Harian')\n",
    "plt.title('Kasus Covid 19')\n",
    "plt.show()"
   ]
  },
  {
   "cell_type": "markdown",
   "metadata": {},
   "source": [
    "Sekarang kita akan membuat model kita. Kita akan menggunakan polynomial regression. perbedaannya dengan linear regression hanya pada bagian sebelum di set ke model linear regression kita akan ubah dulu dalam bentuk polynomial."
   ]
  },
  {
   "cell_type": "code",
   "execution_count": 81,
   "metadata": {},
   "outputs": [
    {
     "data": {
      "text/plain": [
       "LinearRegression()"
      ]
     },
     "execution_count": 81,
     "metadata": {},
     "output_type": "execute_result"
    }
   ],
   "source": [
    "'''Import modul PolynomialFeatures dari sklearn.preprocessing dan taruh di sel package/library\n",
    "panggil modul linear regression pada sklearn dan tempatkan di sel package/library\n",
    "'''\n",
    "\n",
    "poly_reg = PolynomialFeatures(degree=2)\n",
    "X_poly = poly_reg.fit_transform(X_train)\n",
    "\n",
    "#setelah ini, di bawah, buatlah model linear regression pada seperti biasa.\n",
    "#gunakan X_poly untuk menggantikan X_train pada sesi training model linear regression pasangkan dengan y_train]\n",
    "\n",
    "model_1 = lr()\n",
    "model_1.fit(X_poly, y_train)\n",
    "\n"
   ]
  },
  {
   "cell_type": "code",
   "execution_count": 116,
   "metadata": {},
   "outputs": [
    {
     "name": "stdout",
     "output_type": "stream",
     "text": [
      "[[ 0.         -0.02436133 -0.00012392]]\n",
      "[10.98814516]\n"
     ]
    }
   ],
   "source": [
    "print(model_1.coef_)\n",
    "print(model_1.intercept_)"
   ]
  },
  {
   "cell_type": "markdown",
   "metadata": {},
   "source": [
    "Selanjutkan kita akan melakukan evaluasi model kita dengan membuat prediksi dari x_test kita lalu bandingkan hasilnya dengan y_test. cari nilai r_square."
   ]
  },
  {
   "cell_type": "code",
   "execution_count": 82,
   "metadata": {},
   "outputs": [
    {
     "data": {
      "text/plain": [
       "array([[ 7.06400853],\n",
       "       [ 7.11426874],\n",
       "       [10.677965  ],\n",
       "       [10.27098195],\n",
       "       [ 6.11694473],\n",
       "       [ 8.84051016],\n",
       "       [ 8.92145153],\n",
       "       [ 6.54777542],\n",
       "       [ 5.55610111],\n",
       "       [ 8.02212388],\n",
       "       [ 8.06742737],\n",
       "       [ 9.64095117],\n",
       "       [ 8.71723935],\n",
       "       [ 8.79966773],\n",
       "       [10.11385864],\n",
       "       [ 9.74637778],\n",
       "       [10.24005296],\n",
       "       [10.48054546],\n",
       "       [ 5.61330074],\n",
       "       [ 9.23530354],\n",
       "       [ 6.0067587 ],\n",
       "       [10.88871715],\n",
       "       [ 6.86048932],\n",
       "       [ 9.95053943],\n",
       "       [ 7.83843157],\n",
       "       [ 7.31283122],\n",
       "       [10.56664085],\n",
       "       [10.50949176]])"
      ]
     },
     "execution_count": 82,
     "metadata": {},
     "output_type": "execute_result"
    }
   ],
   "source": [
    "#pertama mari kita prediksi kan seluruh data x_test.\n",
    "'''kita akan gunakan poly_reg.fit_transform untuk mengubah data kita menjadi bentuk polynomialnya\n",
    "'''\n",
    "\n",
    "poly_x_test = poly_reg.fit_transform(X_test)\n",
    "poly_x_test\n",
    "\n",
    "#setelah itu  buat variabel y_pred dengan menggunakan metode predict dan tampilkan y_pred\n",
    "\n",
    "y_pred = model_1.predict(poly_x_test)\n",
    "y_pred\n",
    "\n"
   ]
  },
  {
   "cell_type": "code",
   "execution_count": 83,
   "metadata": {},
   "outputs": [
    {
     "name": "stdout",
     "output_type": "stream",
     "text": [
      "The model performance for testing set\n",
      "--------------------------------------\n",
      "R2 score is 0.9576332489268023\n"
     ]
    }
   ],
   "source": [
    "'''Evaluasi model kita dengan fungsi di bawah ini\n",
    "import metrics dari sklearn dan taruh di sel atas\n",
    "'''\n",
    "r2 = metrics.r2_score(y_test, y_pred)\n",
    "\n",
    "print(\"The model performance for testing set\")\n",
    "print(\"--------------------------------------\")\n",
    "print('R2 score is {}'.format(r2))"
   ]
  },
  {
   "cell_type": "markdown",
   "metadata": {},
   "source": [
    "0.95 adalah angka yang baik. Sekarang kita lanjut untuk membuat prediksi data kita.\n",
    "Ingat, di awal kita ingin memprediksi data kita 30 hari semenjak data terakhir.\n",
    "buat numpy array dari 137 - 166"
   ]
  },
  {
   "cell_type": "code",
   "execution_count": 106,
   "metadata": {},
   "outputs": [
    {
     "data": {
      "text/plain": [
       "array([[137],\n",
       "       [138],\n",
       "       [139],\n",
       "       [140],\n",
       "       [141],\n",
       "       [142],\n",
       "       [143],\n",
       "       [144],\n",
       "       [145],\n",
       "       [146],\n",
       "       [147],\n",
       "       [148],\n",
       "       [149],\n",
       "       [150],\n",
       "       [151],\n",
       "       [152],\n",
       "       [153],\n",
       "       [154],\n",
       "       [155],\n",
       "       [156],\n",
       "       [157],\n",
       "       [158],\n",
       "       [159],\n",
       "       [160],\n",
       "       [161],\n",
       "       [162],\n",
       "       [163],\n",
       "       [164],\n",
       "       [165],\n",
       "       [166]])"
      ]
     },
     "execution_count": 106,
     "metadata": {},
     "output_type": "execute_result"
    }
   ],
   "source": [
    "#buat variabel numpy array yang diminta dan tampilkan. beri nama variabelnya predict_date\n",
    "predict_date = np.arange(137,167).reshape((-1,1))\n",
    "predict_date\n",
    "\n"
   ]
  },
  {
   "cell_type": "code",
   "execution_count": 112,
   "metadata": {},
   "outputs": [
    {
     "data": {
      "text/plain": [
       "array([[5.32482425, 5.26638545, 5.20769881, 5.14876433, 5.08958201,\n",
       "        5.03015186, 4.97047388, 4.91054805, 4.8503744 , 4.7899529 ,\n",
       "        4.72928357, 4.6683664 , 4.6072014 , 4.54578856, 4.48412788,\n",
       "        4.42221937, 4.36006302, 4.29765884, 4.23500682, 4.17210696,\n",
       "        4.10895927, 4.04556374, 3.98192037, 3.91802917, 3.85389013,\n",
       "        3.78950326, 3.72486855, 3.659986  , 3.59485562, 3.5294774 ]])"
      ]
     },
     "execution_count": 112,
     "metadata": {},
     "output_type": "execute_result"
    }
   ],
   "source": [
    "#lakukan prediksi dengan berbasis pada predict_date. manfaatkan kembali poly_reg.fit_transform dan pol_reg.predict.\n",
    "#beri nama variabelnya predict_cases dan tampilkan\n",
    "\n",
    "poly_x_pred = poly_reg.fit_transform(predict_date)\n",
    "poly_x_pred\n",
    "\n",
    "predict_cases = model_1.predict(poly_x_pred)\n",
    "predict_cases.reshape(1,-1)\n",
    "\n"
   ]
  },
  {
   "cell_type": "markdown",
   "metadata": {},
   "source": [
    "5. Data Analysis\n",
    "Pada kesempatan kali ini kita akan melakukan analysis. Pertama dengan membuat grafik 30 hari kedepan. lalu menganalisis grafik dan model kita."
   ]
  },
  {
   "cell_type": "code",
   "execution_count": 118,
   "metadata": {},
   "outputs": [
    {
     "data": {
      "image/png": "[encoded data removed]",
      "text/plain": [
       "<Figure size 432x288 with 1 Axes>"
      ]
     },
     "metadata": {
      "needs_background": "light"
     },
     "output_type": "display_data"
    }
   ],
   "source": [
    "#Disini kita akan melakukan plot grafik predict_date = x dan predict case = y\n",
    "#Jangan lupa import matplotlib pada sel library/package\n",
    "\n",
    "plt.scatter(predict_date, np.exp(predict_cases))\n",
    "plt.xlabel('X-Hari Setelah 1 Juli 2021')\n",
    "plt.ylabel('Jumlah Kasus Baru')\n",
    "plt.title('Forecasting Kasus Baru Covid di Indonesia')\n",
    "plt.show()\n"
   ]
  },
  {
   "cell_type": "code",
   "execution_count": 120,
   "metadata": {},
   "outputs": [
    {
     "name": "stdout",
     "output_type": "stream",
     "text": [
      "[[ 0.         -0.02436133 -0.00012392]]\n",
      "[10.98814516]\n"
     ]
    },
    {
     "data": {
      "text/plain": [
       "array([[205.37226397],\n",
       "       [193.71450443],\n",
       "       [182.67320778],\n",
       "       [172.21855325],\n",
       "       [162.32199962],\n",
       "       [152.95623949],\n",
       "       [144.09515464],\n",
       "       [135.7137726 ],\n",
       "       [127.78822426],\n",
       "       [120.29570268],\n",
       "       [113.214423  ],\n",
       "       [106.52358348],\n",
       "       [100.20332764],\n",
       "       [ 94.23470747],\n",
       "       [ 88.59964777],\n",
       "       [ 83.28091155],\n",
       "       [ 78.26206646],\n",
       "       [ 73.52745227],\n",
       "       [ 69.06214946],\n",
       "       [ 64.85194866],\n",
       "       [ 60.88332123],\n",
       "       [ 57.14339077],\n",
       "       [ 53.61990553],\n",
       "       [ 50.30121184],\n",
       "       [ 47.17622845],\n",
       "       [ 44.23442168],\n",
       "       [ 41.46578158],\n",
       "       [ 38.86079883],\n",
       "       [ 36.41044258],\n",
       "       [ 34.10613905]])"
      ]
     },
     "execution_count": 120,
     "metadata": {},
     "output_type": "execute_result"
    }
   ],
   "source": [
    "print(model_1.coef_)\n",
    "print(model_1.intercept_)\n",
    "np.exp(predict_cases)"
   ]
  },
  {
   "cell_type": "code",
   "execution_count": 122,
   "metadata": {},
   "outputs": [
    {
     "data": {
      "text/plain": [
       "'\\nBerikan Analisis kalian disini.\\n1. tentang grafik prediksi\\n2. tentang pemilihan polynomial regression dan model secara umum\\n\\nPada output grafik prediksi kasus covid 19 dalam 30 hari kedepan dari tanggal 1 Juli 2021 di atas dapat dilihat bahwa jumlah kasus baru covid 19 \\nmenurun secara kuadratik. Hingga pada hari ke 166 diprediksi jumlah kasus hariannya hanya 34 kasus. \\n\\nKebaikan model dalam memprediksi kasus covid berdasarkan jumlah hari menghasilkan nilai R-Square sebesar 95,76 %. Tentu nilai R-Square ini sangat \\nbesar sekali dan model yang dihasilkan sangatlah baik dalam menjelaskan hubungan sebab akibat antara jumlah hari dan jumlah kasus covid 19. \\n\\nHubungan antara jumlah hari dan jumlah kasus dapat dijelaskan lewat model regresi yang dibangun, pada model regresi polinom ini, model yang dihasilkan\\nyaitu y = 10,988 -0,024 x - 0,0001 x2 (angka 2 berartikan kuadrat). \\n\\nDari model di atas, dapat disimpulkan bahwa setiap kenaikan 1 hari, maka jumlah kasus covid 19 menjadi 10,988 - 0,024(1) - 0,0001(1) = 10,963 kasus. Dengan data per 1 Juli\\n2021 sebanyak 10,988 atau ketika x = 0j\\n\\n\\n'"
      ]
     },
     "execution_count": 122,
     "metadata": {},
     "output_type": "execute_result"
    }
   ],
   "source": [
    "'''\n",
    "Berikan Analisis kalian disini.\n",
    "1. tentang grafik prediksi\n",
    "2. tentang pemilihan polynomial regression dan model secara umum\n",
    "\n",
    "Pada output grafik prediksi kasus covid 19 dalam 30 hari kedepan dari tanggal 1 Juli 2021 di atas dapat dilihat bahwa jumlah kasus baru covid 19 \n",
    "menurun secara kuadratik. Hingga pada hari ke 166 diprediksi jumlah kasus hariannya hanya 34 kasus. \n",
    "\n",
    "Kebaikan model dalam memprediksi kasus covid berdasarkan jumlah hari menghasilkan nilai R-Square sebesar 95,76 %. Tentu nilai R-Square ini sangat \n",
    "besar sekali dan model yang dihasilkan sangatlah baik dalam menjelaskan hubungan sebab akibat antara jumlah hari dan jumlah kasus covid 19. \n",
    "\n",
    "Hubungan antara jumlah hari dan jumlah kasus dapat dijelaskan lewat model regresi yang dibangun, pada model regresi polinom ini, model yang dihasilkan\n",
    "yaitu y = 10,988 -0,024 x - 0,0001 x2 (angka 2 berartikan kuadrat). \n",
    "\n",
    "Dari model di atas, dapat disimpulkan bahwa setiap kenaikan 1 hari, maka jumlah kasus covid 19 menjadi 10,988 - 0,024(1) - 0,0001(1) = 10,963 kasus. Dengan data per 1 Juli\n",
    "2021 sebanyak 10,988 atau ketika x = 0.\n",
    "\n",
    "\n",
    "'''"
   ]
  }
 ],
 "metadata": {
  "interpreter": {
   "hash": "b02d93efda564da1915d42b0288c26f05ac833e7645184a564f32e638d57cc3e"
  },
  "kernelspec": {
   "display_name": "Python 3.8.6 64-bit ('public_op': virtualenv)",
   "language": "python",
   "name": "python3"
  },
  "language_info": {
   "codemirror_mode": {
    "name": "ipython",
    "version": 3
   },
   "file_extension": ".py",
   "mimetype": "text/x-python",
   "name": "python",
   "nbconvert_exporter": "python",
   "pygments_lexer": "ipython3",
   "version": "3.8.8"
  },
  "orig_nbformat": 4
 },
 "nbformat": 4,
 "nbformat_minor": 2
}
