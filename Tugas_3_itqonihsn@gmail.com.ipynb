{
 "cells": [
  {
   "cell_type": "markdown",
   "metadata": {},
   "source": [
    "# <h1><center><span style=\"color:yellow\">**Bismillahirrahmanirrahim**</span></center></h1>\n",
    "# <h1><center><span style=\"color:white\">Allahummayasir walatu'asir</span></center></h1>\n",
    "# <center><span style='color:white'>**TUGAS 3**</span></center>\n"
   ]
  },
  {
   "cell_type": "markdown",
   "metadata": {},
   "source": [
    "1. Keluarkan dan tampilkan menggunakan print semua anggota list pada sel dibawah"
   ]
  },
  {
   "cell_type": "code",
   "execution_count": 3,
   "metadata": {},
   "outputs": [
    {
     "name": "stdout",
     "output_type": "stream",
     "text": [
      "bandung\n",
      "jakarta\n",
      "semarang\n",
      "palembang\n"
     ]
    }
   ],
   "source": [
    "data_list = ['bandung','jakarta','semarang','palembang']\n",
    "for item in data_list:\n",
    "    print(item)\n",
    "\n",
    "#contoh list = [1,2,3]\n",
    "#contoh hasil\n",
    "#1\n",
    "#2\n",
    "#3"
   ]
  },
  {
   "cell_type": "markdown",
   "metadata": {},
   "source": [
    "2. Keluarkan dan tampilkan menggunakan metode print anggota list dengan tipe numerik (int & float) dari list pada sel di bawah"
   ]
  },
  {
   "cell_type": "code",
   "execution_count": 4,
   "metadata": {},
   "outputs": [
    {
     "name": "stdout",
     "output_type": "stream",
     "text": [
      "100\n",
      "15.5\n"
     ]
    }
   ],
   "source": [
    "#kerjakan soal no.2 pada sel berikut ini\n",
    "#contoh list = ['a', 1]\n",
    "#contoh hasil :\n",
    "#1\n",
    "\n",
    "data_list_2 = [100, 'makassar', 15.5, True, \"20\"] \n",
    "for item in data_list_2:\n",
    "    if type(item) == int:\n",
    "        print(item)\n",
    "    elif type(item) == float:\n",
    "        print(item)"
   ]
  },
  {
   "cell_type": "markdown",
   "metadata": {},
   "source": [
    "3. Buat sebuah kode if else yang dapat menyatakan apakah suatu bilangan ganjil atau genap."
   ]
  },
  {
   "cell_type": "code",
   "execution_count": 5,
   "metadata": {},
   "outputs": [
    {
     "name": "stdout",
     "output_type": "stream",
     "text": [
      "Ganjil\n"
     ]
    }
   ],
   "source": [
    "#kerjakan soal no.3 disini\n",
    "\n",
    "number = 9\n",
    "if number%2 == 0:\n",
    "    print('Genap')\n",
    "else:\n",
    "    print('Ganjil') \n",
    "\n",
    "#hasil yang diharapkan\n",
    "#ganjil\n"
   ]
  },
  {
   "cell_type": "markdown",
   "metadata": {},
   "source": [
    "4. Kalikan semua anggota list_1 terhadap anggota ganjil pada list_2. tampilkan hasilnya"
   ]
  },
  {
   "cell_type": "code",
   "execution_count": 6,
   "metadata": {},
   "outputs": [
    {
     "name": "stdout",
     "output_type": "stream",
     "text": [
      "3\n",
      "9\n",
      "6\n",
      "18\n",
      "9\n",
      "27\n",
      "12\n",
      "36\n",
      "15\n",
      "45\n"
     ]
    },
    {
     "data": {
      "text/plain": [
       "[3, 6, 9, 12, 15, 9, 18, 27, 36, 45]"
      ]
     },
     "execution_count": 6,
     "metadata": {},
     "output_type": "execute_result"
    }
   ],
   "source": [
    "#kerjakan soal no.4 pada sel berikut ini\n",
    "list_1 = [1,2,3,4,5]\n",
    "list_2 = [2,3,6,8,9]\n",
    "for i in list_1:\n",
    "    for j in list_2:\n",
    "        if j%2 != 0:\n",
    "            print(i*j)\n",
    "\n",
    "coba_coba_ikalij = [i*j for j in list_2 for i in list_1 if j%2 != 0]\n",
    "coba_coba_ikalij\n",
    "#hasil yang diharapkan\n",
    "#'''\n",
    "#3\n",
    "#9\n",
    "#6\n",
    "#18\n",
    "#9\n",
    "#27\n",
    "#12\n",
    "#36\n",
    "#15\n",
    "#45\n",
    "#'''"
   ]
  },
  {
   "cell_type": "markdown",
   "metadata": {},
   "source": [
    "5. lakukan pengecekan apakah terdapat angka pada tiap2 anggota list. lalu tampilkan sesuai format yang diminta"
   ]
  },
  {
   "cell_type": "code",
   "execution_count": 7,
   "metadata": {},
   "outputs": [
    {
     "name": "stdout",
     "output_type": "stream",
     "text": [
      "asda8asd memiliki angka\n",
      "bandunglautanapi tidak memiliki angka\n",
      "washingt0nDC memiliki angka\n"
     ]
    }
   ],
   "source": [
    "#kerjakan soal no.5 pada sel berikut ini\n",
    "#contoh list = ['ada', 'ganesa10']\n",
    "#contoh hasil:\n",
    "#ada tidak memiliki angka\n",
    "#ganesa10 memiliki angka\n",
    "\n",
    "data_list_3 = ['asda8asd', 'bandunglautanapi', 'washingt0nDC']\n",
    "for item in data_list_3:\n",
    "    if item.isalpha() == True:\n",
    "        print('{} tidak memiliki angka'.format(item))\n",
    "    else:\n",
    "        print('{} memiliki angka'.format(item))\n"
   ]
  },
  {
   "cell_type": "markdown",
   "metadata": {},
   "source": [
    "6. Cari siswa mana saja yang memiliki nilai lebih dari sama dengan 80. Masukkan kedalam sebuah list. print hasilnya"
   ]
  },
  {
   "cell_type": "code",
   "execution_count": 8,
   "metadata": {},
   "outputs": [
    {
     "name": "stdout",
     "output_type": "stream",
     "text": [
      "['Budi', 'Rudi', 'Leo']\n",
      "['Budi', 'Rudi', 'Leo']\n"
     ]
    }
   ],
   "source": [
    "#kerjakan soal no.6 pada sel berikut ini\n",
    "\n",
    "data_siswa = [\n",
    "    {\n",
    "        \"nama\":\"Budi\",\n",
    "        \"nilai\": 90\n",
    "    },\n",
    "    {\n",
    "        \"nama\":\"Nina\",\n",
    "        \"nilai\": 78\n",
    "    },\n",
    "    {\n",
    "        \"nama\":\"Rudi\",\n",
    "        \"nilai\": 91\n",
    "    },\n",
    "    {\n",
    "        \"nama\":\"Olivia\",\n",
    "        \"nilai\": 76\n",
    "    },\n",
    "    {\n",
    "        \"nama\":\"Leo\",\n",
    "        \"nilai\": 80\n",
    "    },\n",
    "    {\n",
    "        \"nama\":\"Liam\",\n",
    "        \"nilai\": 67\n",
    "    },\n",
    "    {\n",
    "        \"nama\":\"Sheila\",\n",
    "        \"nilai\": 76\n",
    "    }\n",
    "]\n",
    "nilai_diatas_80 = list()\n",
    "for item in data_siswa:\n",
    "    if item['nilai'] >= 80:\n",
    "       nilai_diatas_80.append(item['nama'])\n",
    "print(nilai_diatas_80)\n",
    "\n",
    "Coba_coba = [item['nama'] for item in data_siswa if item['nilai'] >= 80]\n",
    "print(Coba_coba)\n",
    "\n",
    "#hasil yang diharapkan\n",
    "#[Budi, Rudi, Leo]\n",
    "\n",
    "### BAGAIMANA YAA COACH CARA UNTUK MENGHILANGKAN TANDA ('') SEPERTI PADA OUTPUT YANG DIHARAPKAN SEDANGKAN TIPE DATA NYA STRING DAN BERADA DI DALAM LIST? HOW COME? THANK YOU"
   ]
  }
 ],
 "metadata": {
  "interpreter": {
   "hash": "c5e48f84046969b800ff52f6d80523bcd1ca3fb1a99f1449e4197bf6c73dc096"
  },
  "kernelspec": {
   "display_name": "Python 3.8.8 64-bit ('base': conda)",
   "name": "python3"
  },
  "language_info": {
   "codemirror_mode": {
    "name": "ipython",
    "version": 3
   },
   "file_extension": ".py",
   "mimetype": "text/x-python",
   "name": "python",
   "nbconvert_exporter": "python",
   "pygments_lexer": "ipython3",
   "version": "3.8.8"
  },
  "orig_nbformat": 2
 },
 "nbformat": 4,
 "nbformat_minor": 2
}
