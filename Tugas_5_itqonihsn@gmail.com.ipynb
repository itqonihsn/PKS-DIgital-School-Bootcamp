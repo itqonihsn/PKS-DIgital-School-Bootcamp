{
 "cells": [
  {
   "cell_type": "markdown",
   "metadata": {},
   "source": [
    "# <h1><center><span style=\"color:yellow\">**Bismillahirrahmanirrahim**</span></center></h1>\n",
    "# <h1><center><span style=\"color:white\">Allahummayasir walatu'asir</span></center></h1>\n",
    "# <center><span style='color:white'>**TUGAS 5**</span></center>"
   ]
  },
  {
   "cell_type": "markdown",
   "metadata": {},
   "source": [
    "1. Buatlah sebuah class dengan nama class = Kendaraan,  tanpa variabel, attribute dan methods"
   ]
  },
  {
   "cell_type": "code",
   "execution_count": 1,
   "metadata": {},
   "outputs": [],
   "source": [
    "class Kendaraan:\n",
    "    pass"
   ]
  },
  {
   "cell_type": "markdown",
   "metadata": {},
   "source": [
    "2. Buatlah sebuah class dengan nama class = Kendaraan, yang memiliki atribut instance kecepatan_maksimum dan jarak_tempuh"
   ]
  },
  {
   "cell_type": "code",
   "execution_count": 2,
   "metadata": {},
   "outputs": [
    {
     "name": "stdout",
     "output_type": "stream",
     "text": [
      "240 10\n"
     ]
    }
   ],
   "source": [
    "class Kendaraan:\n",
    "\n",
    "    def __init__(self, kecepatan_maksimum, jarak_tempuh):\n",
    "        self.kecepata_maksimum = kecepatan_maksimum\n",
    "        self.jarak_tempuh = jarak_tempuh\n",
    "\n",
    "model_1 = Kendaraan(240,10)\n",
    "print(model_1.kecepata_maksimum, model_1.jarak_tempuh)\n",
    "\n",
    "#contoh pemanggilan\n",
    "#model_1 = Kendaraan(240,10)\n",
    "#print(model_1.kecepatan_maksimum, model_1.jarak_tempuh)\n",
    "\n",
    "#output\n",
    "#240 10"
   ]
  },
  {
   "cell_type": "markdown",
   "metadata": {},
   "source": [
    "3. Buatlah sebuah class dengan nama Tesla yang bersifat inheritance/turunan dari class mobil"
   ]
  },
  {
   "cell_type": "code",
   "execution_count": 7,
   "metadata": {},
   "outputs": [
    {
     "name": "stdout",
     "output_type": "stream",
     "text": [
      "Nama Mobil: Model X, Warna: Perak, Bahan Bakar Listrik\n",
      "Nama Mobil: Model X, Warna: Perak, Bahan Bakar Listrik\n"
     ]
    }
   ],
   "source": [
    "#kerjakan soal no 3 pada sel ini\n",
    "\n",
    "class Mobil:\n",
    "\n",
    "    def __init__(self, nama, warna, bahan_bakar):\n",
    "        self.nama = nama\n",
    "        self.warna = warna\n",
    "        self.bahan_bakar = bahan_bakar\n",
    "\n",
    "    def keterangan(self):\n",
    "        print('Nama Mobil: {}, Warna: {}, Bahan Bakar {}'.format(self.nama, self.warna, self.bahan_bakar))        \n",
    "\n",
    "class Tesla(Mobil):\n",
    "\n",
    "    def __init__(self, nama, warna, bahan_bakar):\n",
    "        super().__init__(nama, warna, bahan_bakar)\n",
    "\n",
    "\n",
    "model_x = Tesla('Model X','Perak', 'Listrik')\n",
    "\n",
    "print('Nama Mobil: {}, Warna: {}, Bahan Bakar {}'.format(model_x.nama, model_x.warna, model_x.bahan_bakar))       \n",
    "\n",
    "model_x.keterangan()\n",
    "\n",
    "\n",
    "# contoh pemanggilan\n",
    "# model_x = Tesla(\"model x\",\"perak\",\"listrik\")\n",
    "# print(f\"Nama Mobil: {model_x.nama}, Warna: {model_x.warna}, Bahan Bakar: {model_x.bahan_bakar}\")\n",
    "\n",
    "# output\n",
    "# Nama Mobil: model x, Warna: perak, Bahan Bakar: listrik\n"
   ]
  },
  {
   "cell_type": "markdown",
   "metadata": {},
   "source": [
    "4. Buatlah sebuah class dengan ketentuan:\n",
    "    - memiliki nama Aritmatika\n",
    "    - instance atribut/input untuk class adalah dua integer\n",
    "    - memiliki metode yang bernama add yang menampilkan hasil penjumlahan instance atribut/inputan class"
   ]
  },
  {
   "cell_type": "code",
   "execution_count": 11,
   "metadata": {},
   "outputs": [
    {
     "name": "stdout",
     "output_type": "stream",
     "text": [
      "14\n"
     ]
    }
   ],
   "source": [
    "class Aritmatika:\n",
    "\n",
    "    def __init__(self, num_1, num_2):\n",
    "        self.num_1 = int(num_1)\n",
    "        self.num_2 = int(num_2)\n",
    "\n",
    "    def add(self):\n",
    "        print(self.num_1+self.num_2)\n",
    "\n",
    "model_hitung = Aritmatika(10,4)\n",
    "model_hitung.add()\n",
    "#kerjakan soal no 4 pada sel ini\n",
    "\n",
    "# contoh pemanggilan\n",
    "# model_hitung = Aritmatika(10,4)\n",
    "# model_hitung.add()\n",
    "\n",
    "# output\n",
    "# 14"
   ]
  },
  {
   "cell_type": "code",
   "execution_count": null,
   "metadata": {},
   "outputs": [],
   "source": []
  }
 ],
 "metadata": {
  "interpreter": {
   "hash": "c5e48f84046969b800ff52f6d80523bcd1ca3fb1a99f1449e4197bf6c73dc096"
  },
  "kernelspec": {
   "display_name": "Python 3.8.8 64-bit ('base': conda)",
   "name": "python3"
  },
  "language_info": {
   "codemirror_mode": {
    "name": "ipython",
    "version": 3
   },
   "file_extension": ".py",
   "mimetype": "text/x-python",
   "name": "python",
   "nbconvert_exporter": "python",
   "pygments_lexer": "ipython3",
   "version": "3.8.8"
  },
  "orig_nbformat": 4
 },
 "nbformat": 4,
 "nbformat_minor": 2
}
